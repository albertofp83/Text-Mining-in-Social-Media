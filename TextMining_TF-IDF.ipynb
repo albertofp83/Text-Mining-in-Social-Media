{
 "cells": [
  {
   "cell_type": "markdown",
   "metadata": {},
   "source": [
    "## Text Mining in Social Media - TF-IDF\n",
    "\n",
    "*En este notebook se detalla paso a paso todo el proceso de extracción de tuits de usuarios, su inserción en un DataFrame y el entrenamiento, etiquetado y evaluación de un modelo capaz de predecir el sexo y la variedad de español de un usuario dados 100 de sus tuits.*"
   ]
  },
  {
   "cell_type": "markdown",
   "metadata": {},
   "source": [
    "**1- Generamos dos diccionarios llamados ids_train e ids_test que contienen los ids de usuarios clasificados por variedad y sexo. Usamos para ello la función generar_dicc_ids**"
   ]
  },
  {
   "cell_type": "markdown",
   "metadata": {},
   "source": [
    "Para ello abrimos el fichero truth.txt, que contiene estos campos en forma de csv separados por los caracteres ':::'."
   ]
  },
  {
   "cell_type": "code",
   "execution_count": 1,
   "metadata": {},
   "outputs": [
    {
     "name": "stdout",
     "output_type": "stream",
     "text": [
      "{'male': 1400, 'female': 1400}\n",
      "{'colombia': 400, 'argentina': 400, 'spain': 400, 'venezuela': 400, 'peru': 400, 'chile': 400, 'mexico': 400}\n",
      "2800\n",
      "{'male': 700, 'female': 700}\n",
      "{'colombia': 200, 'argentina': 200, 'spain': 200, 'venezuela': 200, 'peru': 200, 'chile': 200, 'mexico': 200}\n",
      "1400\n"
     ]
    }
   ],
   "source": [
    "def generar_dicc_ids(particion):\n",
    "    # particion: 'train' o 'test'\n",
    "    if particion=='train':\n",
    "        f = open('./PAN-AP/training/truth.txt')\n",
    "    else:\n",
    "        f = open('./PAN-AP/test/truth.txt')\n",
    "    \n",
    "    contador=0\n",
    "    sexo={'male':0,'female':0}\n",
    "    variedades={'colombia':0,'argentina':0,'spain':0,'venezuela':0,'peru':0,'chile':0,'mexico':0}\n",
    "\n",
    "    ids={'colombia':{'male':[],'female':[]},'argentina':{'male':[],'female':[]},'spain':{'male':[],'female':[]}, \\\n",
    "     'venezuela':{'male':[],'female':[]},'peru':{'male':[],'female':[]},'chile':{'male':[],'female':[]}, \\\n",
    "     'mexico':{'male':[],'female':[]}}\n",
    "\n",
    "    for line in f:\n",
    "        line=line.rstrip()\n",
    "        if len(line)==0:\n",
    "            continue\n",
    "        lista=line.split(':::')\n",
    "\n",
    "        ids[lista[2]][lista[1]].append(lista[0])\n",
    "\n",
    "        sexo[lista[1]] += 1\n",
    "        variedades[lista[2]] += 1\n",
    "        contador+=1\n",
    "\n",
    "    print(sexo)\n",
    "    print(variedades)\n",
    "    print(contador)\n",
    "\n",
    "    return ids\n",
    "\n",
    "ids_train = generar_dicc_ids('train')\n",
    "ids_test  = generar_dicc_ids('test')\n"
   ]
  },
  {
   "cell_type": "markdown",
   "metadata": {},
   "source": [
    "**Ejemplo de los diccionarios generados**"
   ]
  },
  {
   "cell_type": "code",
   "execution_count": 2,
   "metadata": {},
   "outputs": [
    {
     "data": {
      "text/plain": [
       "['ef3588c9462713023145ae3c12c85614',\n",
       " '17e06a4ef15eaa851242465edc5328bd',\n",
       " 'cfa38327f7699d48daaaaf4278a1354a',\n",
       " 'e85fd98dfc6743bce7b274fbcac69f24',\n",
       " '826e3b4e72bfb6f9cdfc1a6995be10e5',\n",
       " 'bf149d41c5e685054a57fb38d964735d',\n",
       " '79e9e99239fe662190978d62ebc4c24d',\n",
       " '2d56280a969d9dbcc4b32b21bc0a9b02',\n",
       " 'b56c7a73e3bb2eb5436a3642b1fb70ee',\n",
       " '17786b7a4a1a31775af8ae786b4e4711']"
      ]
     },
     "execution_count": 2,
     "metadata": {},
     "output_type": "execute_result"
    }
   ],
   "source": [
    "ids_train['spain']['male'][0:10]"
   ]
  },
  {
   "cell_type": "markdown",
   "metadata": {},
   "source": [
    "**2- Definimos dos funciones:**\n",
    "\n",
    "**flatstring:** recibe una lista de strings y los concatena devolviendo un único string. Añade un espacio en blanco entre uno y otro para que estén separados.\n",
    "\n",
    "**leer_tuits:** recibe el id del usuario y a qué partición pertenece ('train' o 'test'). Devuelve los 100 tuits del usuario concatenados en un único string.\n",
    "\n"
   ]
  },
  {
   "cell_type": "code",
   "execution_count": 3,
   "metadata": {
    "collapsed": true
   },
   "outputs": [],
   "source": [
    "def flatstring(lista):\n",
    "    s=\"\"\n",
    "    for item in lista:\n",
    "        s+= \" \" + item\n",
    "    return s\n",
    "\n",
    "def leer_tuits(id,particion):\n",
    "    if particion == 'train':\n",
    "        s='./PAN-AP/training/' + id + '.xml'\n",
    "    else:\n",
    "        s='./PAN-AP/test/' + id + '.xml'\n",
    "    f=open(s)\n",
    "    tuits=list()\n",
    "    for line in f:\n",
    "        line=line.rstrip()\n",
    "        if line.find('<document><![CDATA[') != -1:\n",
    "            line=line[21:-14]\n",
    "            tuits.append(line)\n",
    "    return flatstring(tuits)\n"
   ]
  },
  {
   "cell_type": "markdown",
   "metadata": {
    "collapsed": true
   },
   "source": [
    "**3- Definimos la función generar_dataframe que devuelve un DataFrame de pandas con las columnas tuits, sexo y variedad. En cada fila de la columna tuits, se encuentran todos los tuits de un usuario concatenados en un único string.**"
   ]
  },
  {
   "cell_type": "code",
   "execution_count": 4,
   "metadata": {
    "collapsed": true
   },
   "outputs": [],
   "source": [
    "import pandas as pd\n",
    "\n",
    "def generar_dataframe(ids,particion):\n",
    "    # ids: ids_train o ids_test\n",
    "    \n",
    "    df = pd.DataFrame(columns = ['tuits','sexo','variedad'])\n",
    "\n",
    "    i=0 # Contador del número de filas. Cada fila será un usuario.\n",
    "    variedades_lista = ['argentina', 'chile', 'colombia', 'mexico', 'peru', 'spain', 'venezuela']\n",
    "    sexo_lista = ['female','male']\n",
    "\n",
    "    for variedad in variedades_lista:\n",
    "        v=0 # contador del número de usuarios de una variedad\n",
    "        print(variedad)\n",
    "        \n",
    "        for sexo in sexo_lista:\n",
    "            s=0 # contador del número de usuarios de un sexo\n",
    "            \n",
    "            for id in ids[variedad][sexo]:\n",
    "                t = leer_tuits(id,particion)\n",
    "                df.loc[i] = [t,sexo,variedad]\n",
    "                i+=1\n",
    "                v+=1\n",
    "                s+=1\n",
    "            \n",
    "            print(\"\\t\",sexo,s)\n",
    "        \n",
    "        print(v)\n",
    "    \n",
    "    return df\n"
   ]
  },
  {
   "cell_type": "markdown",
   "metadata": {},
   "source": [
    "Generamos los DataFrames train y test."
   ]
  },
  {
   "cell_type": "code",
   "execution_count": 5,
   "metadata": {},
   "outputs": [
    {
     "name": "stdout",
     "output_type": "stream",
     "text": [
      "argentina\n",
      "\t female 200\n",
      "\t male 200\n",
      "400\n",
      "chile\n",
      "\t female 200\n",
      "\t male 200\n",
      "400\n",
      "colombia\n",
      "\t female 200\n",
      "\t male 200\n",
      "400\n",
      "mexico\n",
      "\t female 200\n",
      "\t male 200\n",
      "400\n",
      "peru\n",
      "\t female 200\n",
      "\t male 200\n",
      "400\n",
      "spain\n",
      "\t female 200\n",
      "\t male 200\n",
      "400\n",
      "venezuela\n",
      "\t female 200\n",
      "\t male 200\n",
      "400\n"
     ]
    }
   ],
   "source": [
    "train = generar_dataframe(ids_train, 'train')"
   ]
  },
  {
   "cell_type": "code",
   "execution_count": 6,
   "metadata": {},
   "outputs": [
    {
     "name": "stdout",
     "output_type": "stream",
     "text": [
      "argentina\n",
      "\t female 100\n",
      "\t male 100\n",
      "200\n",
      "chile\n",
      "\t female 100\n",
      "\t male 100\n",
      "200\n",
      "colombia\n",
      "\t female 100\n",
      "\t male 100\n",
      "200\n",
      "mexico\n",
      "\t female 100\n",
      "\t male 100\n",
      "200\n",
      "peru\n",
      "\t female 100\n",
      "\t male 100\n",
      "200\n",
      "spain\n",
      "\t female 100\n",
      "\t male 100\n",
      "200\n",
      "venezuela\n",
      "\t female 100\n",
      "\t male 100\n",
      "200\n"
     ]
    }
   ],
   "source": [
    "test  = generar_dataframe(ids_test, 'test')"
   ]
  },
  {
   "cell_type": "markdown",
   "metadata": {},
   "source": [
    "Ejemplo del DataFrame train"
   ]
  },
  {
   "cell_type": "code",
   "execution_count": 7,
   "metadata": {},
   "outputs": [
    {
     "data": {
      "text/html": [
       "<div>\n",
       "<style scoped>\n",
       "    .dataframe tbody tr th:only-of-type {\n",
       "        vertical-align: middle;\n",
       "    }\n",
       "\n",
       "    .dataframe tbody tr th {\n",
       "        vertical-align: top;\n",
       "    }\n",
       "\n",
       "    .dataframe thead th {\n",
       "        text-align: right;\n",
       "    }\n",
       "</style>\n",
       "<table border=\"1\" class=\"dataframe\">\n",
       "  <thead>\n",
       "    <tr style=\"text-align: right;\">\n",
       "      <th></th>\n",
       "      <th>tuits</th>\n",
       "      <th>sexo</th>\n",
       "      <th>variedad</th>\n",
       "    </tr>\n",
       "  </thead>\n",
       "  <tbody>\n",
       "    <tr>\n",
       "      <th>1840</th>\n",
       "      <td>Sigamos apoyando con el HT #MissUniverse #Per...</td>\n",
       "      <td>male</td>\n",
       "      <td>peru</td>\n",
       "    </tr>\n",
       "    <tr>\n",
       "      <th>761</th>\n",
       "      <td>Cuando no tuiteo se escapan los fologüers @ea...</td>\n",
       "      <td>male</td>\n",
       "      <td>chile</td>\n",
       "    </tr>\n",
       "    <tr>\n",
       "      <th>854</th>\n",
       "      <td>@GloriaTrevi me encanta el color del pastel l...</td>\n",
       "      <td>female</td>\n",
       "      <td>colombia</td>\n",
       "    </tr>\n",
       "    <tr>\n",
       "      <th>2361</th>\n",
       "      <td>@MikyGonka @Cinesa LA LA Land es 💩 ve a ver @...</td>\n",
       "      <td>male</td>\n",
       "      <td>spain</td>\n",
       "    </tr>\n",
       "    <tr>\n",
       "      <th>1878</th>\n",
       "      <td>@Nadia__LV @gabrielatuesta jajaja calla calla...</td>\n",
       "      <td>male</td>\n",
       "      <td>peru</td>\n",
       "    </tr>\n",
       "    <tr>\n",
       "      <th>2480</th>\n",
       "      <td>Chrystal Moselle y titulado 'Bring it' que ca...</td>\n",
       "      <td>female</td>\n",
       "      <td>venezuela</td>\n",
       "    </tr>\n",
       "    <tr>\n",
       "      <th>1425</th>\n",
       "      <td>Amigos y hermanos mexicanos en Niza, contacte...</td>\n",
       "      <td>male</td>\n",
       "      <td>mexico</td>\n",
       "    </tr>\n",
       "    <tr>\n",
       "      <th>145</th>\n",
       "      <td>Q lindo q escuchar la lluvia me encanta🙈😍 👌 @...</td>\n",
       "      <td>female</td>\n",
       "      <td>argentina</td>\n",
       "    </tr>\n",
       "    <tr>\n",
       "      <th>1346</th>\n",
       "      <td>El otro día compre un juego de cuchillos y un...</td>\n",
       "      <td>female</td>\n",
       "      <td>mexico</td>\n",
       "    </tr>\n",
       "    <tr>\n",
       "      <th>912</th>\n",
       "      <td>@ARZAHE1 @EliasBarrios3 @victor_admon @wilis_...</td>\n",
       "      <td>female</td>\n",
       "      <td>colombia</td>\n",
       "    </tr>\n",
       "  </tbody>\n",
       "</table>\n",
       "</div>"
      ],
      "text/plain": [
       "                                                  tuits    sexo   variedad\n",
       "1840   Sigamos apoyando con el HT #MissUniverse #Per...    male       peru\n",
       "761    Cuando no tuiteo se escapan los fologüers @ea...    male      chile\n",
       "854    @GloriaTrevi me encanta el color del pastel l...  female   colombia\n",
       "2361   @MikyGonka @Cinesa LA LA Land es 💩 ve a ver @...    male      spain\n",
       "1878   @Nadia__LV @gabrielatuesta jajaja calla calla...    male       peru\n",
       "2480   Chrystal Moselle y titulado 'Bring it' que ca...  female  venezuela\n",
       "1425   Amigos y hermanos mexicanos en Niza, contacte...    male     mexico\n",
       "145    Q lindo q escuchar la lluvia me encanta🙈😍 👌 @...  female  argentina\n",
       "1346   El otro día compre un juego de cuchillos y un...  female     mexico\n",
       "912    @ARZAHE1 @EliasBarrios3 @victor_admon @wilis_...  female   colombia"
      ]
     },
     "execution_count": 7,
     "metadata": {},
     "output_type": "execute_result"
    }
   ],
   "source": [
    "train.sample(n=10)"
   ]
  },
  {
   "cell_type": "code",
   "execution_count": 8,
   "metadata": {},
   "outputs": [
    {
     "data": {
      "text/html": [
       "<div>\n",
       "<style scoped>\n",
       "    .dataframe tbody tr th:only-of-type {\n",
       "        vertical-align: middle;\n",
       "    }\n",
       "\n",
       "    .dataframe tbody tr th {\n",
       "        vertical-align: top;\n",
       "    }\n",
       "\n",
       "    .dataframe thead th {\n",
       "        text-align: right;\n",
       "    }\n",
       "</style>\n",
       "<table border=\"1\" class=\"dataframe\">\n",
       "  <thead>\n",
       "    <tr style=\"text-align: right;\">\n",
       "      <th></th>\n",
       "      <th>tuits</th>\n",
       "      <th>sexo</th>\n",
       "      <th>variedad</th>\n",
       "    </tr>\n",
       "  </thead>\n",
       "  <tbody>\n",
       "    <tr>\n",
       "      <th>count</th>\n",
       "      <td>2800</td>\n",
       "      <td>2800</td>\n",
       "      <td>2800</td>\n",
       "    </tr>\n",
       "    <tr>\n",
       "      <th>unique</th>\n",
       "      <td>2800</td>\n",
       "      <td>2</td>\n",
       "      <td>7</td>\n",
       "    </tr>\n",
       "    <tr>\n",
       "      <th>top</th>\n",
       "      <td>@vhmolinac @ciroalonp No sé porque se siente ...</td>\n",
       "      <td>male</td>\n",
       "      <td>mexico</td>\n",
       "    </tr>\n",
       "    <tr>\n",
       "      <th>freq</th>\n",
       "      <td>1</td>\n",
       "      <td>1400</td>\n",
       "      <td>400</td>\n",
       "    </tr>\n",
       "  </tbody>\n",
       "</table>\n",
       "</div>"
      ],
      "text/plain": [
       "                                                    tuits  sexo variedad\n",
       "count                                                2800  2800     2800\n",
       "unique                                               2800     2        7\n",
       "top      @vhmolinac @ciroalonp No sé porque se siente ...  male   mexico\n",
       "freq                                                    1  1400      400"
      ]
     },
     "execution_count": 8,
     "metadata": {},
     "output_type": "execute_result"
    }
   ],
   "source": [
    "train.describe()"
   ]
  },
  {
   "cell_type": "markdown",
   "metadata": {
    "collapsed": true
   },
   "source": [
    "**4- Para preparar los datos de entrenamiento y de test, usamos la función TfidfVectorizer que crea una bolsa de palabras ponderada según la importancia de una palabra que pertenece a un usuario dentro de un conjunto de usuarios.**\n",
    "\n",
    "**Parámetros:** \n",
    "- **tokenizer**: usamos TweetTokenizer que elimina caracteres repetidos más de 3 veces, elimina mayúsculas y elimina espacios en blanco.\n",
    "- **stop_words**: descartamos las stop words mediante la librería stop_words de Python.\n",
    "- **max_features**: obtenemos únicamente las 20.000 palabras con mayor frecuencia."
   ]
  },
  {
   "cell_type": "code",
   "execution_count": 9,
   "metadata": {
    "collapsed": true
   },
   "outputs": [],
   "source": [
    "from nltk.tokenize import TweetTokenizer\n",
    "from stop_words import get_stop_words\n",
    "from sklearn.feature_extraction.text import TfidfVectorizer\n",
    "\n",
    "tokenizador = TweetTokenizer(reduce_len=True, preserve_case=False, strip_handles=True)\n",
    "stop_words = get_stop_words('es')\n",
    "\n",
    "vec = TfidfVectorizer(tokenizer=tokenizador.tokenize,max_features=20000,stop_words=stop_words)"
   ]
  },
  {
   "cell_type": "markdown",
   "metadata": {},
   "source": [
    "**Generamos las matrices x_train (2800x20000) y x_test (1400x20000) que son las matrices X de entrada al modelo.**\n",
    "\n",
    "**Usamos los métodos fit_transform para la matriz de train y transform para la matriz de test.**"
   ]
  },
  {
   "cell_type": "code",
   "execution_count": 10,
   "metadata": {},
   "outputs": [
    {
     "data": {
      "text/plain": [
       "(<2800x20000 sparse matrix of type '<class 'numpy.float64'>'\n",
       " \twith 1072302 stored elements in Compressed Sparse Row format>,\n",
       " <1400x20000 sparse matrix of type '<class 'numpy.float64'>'\n",
       " \twith 537416 stored elements in Compressed Sparse Row format>)"
      ]
     },
     "execution_count": 10,
     "metadata": {},
     "output_type": "execute_result"
    }
   ],
   "source": [
    "x_train = vec.fit_transform(train['tuits'])\n",
    "x_test  = vec.transform(test['tuits'])\n",
    "\n",
    "x_train, x_test"
   ]
  },
  {
   "cell_type": "markdown",
   "metadata": {},
   "source": [
    "**5- SEXO: clasificador, predicción y evaluación.**\n",
    "\n",
    "**El mejor clasificador encontrado se basa en un modelo RandomForest con 500 árboles**"
   ]
  },
  {
   "cell_type": "markdown",
   "metadata": {},
   "source": [
    "**Creación del clasificador:** usamos el método fit de la función RandomForestClassifier con n=500"
   ]
  },
  {
   "cell_type": "code",
   "execution_count": 11,
   "metadata": {
    "collapsed": true
   },
   "outputs": [],
   "source": [
    "from sklearn.ensemble import RandomForestClassifier\n",
    "\n",
    "clf_gender = RandomForestClassifier(500).fit(x_train, train['sexo'])"
   ]
  },
  {
   "cell_type": "markdown",
   "metadata": {},
   "source": [
    "**Predicción:** usamos el método predict de RandomForestClassifier"
   ]
  },
  {
   "cell_type": "code",
   "execution_count": 12,
   "metadata": {
    "collapsed": true
   },
   "outputs": [],
   "source": [
    "predicted_gender = clf_gender.predict(x_test)"
   ]
  },
  {
   "cell_type": "markdown",
   "metadata": {},
   "source": [
    "Ejemplo de la predicción"
   ]
  },
  {
   "cell_type": "code",
   "execution_count": 13,
   "metadata": {},
   "outputs": [
    {
     "data": {
      "text/plain": [
       "array(['female', 'male', 'female', 'male', 'female', 'male', 'female',\n",
       "       'female', 'female', 'female'], dtype=object)"
      ]
     },
     "execution_count": 13,
     "metadata": {},
     "output_type": "execute_result"
    }
   ],
   "source": [
    "predicted_gender[0:10]"
   ]
  },
  {
   "cell_type": "markdown",
   "metadata": {},
   "source": [
    "**Evaluación:** usamos la función classification_report de la librería metrics de sklearn"
   ]
  },
  {
   "cell_type": "code",
   "execution_count": 14,
   "metadata": {},
   "outputs": [
    {
     "name": "stdout",
     "output_type": "stream",
     "text": [
      "             precision    recall  f1-score   support\n",
      "\n",
      "     female       0.75      0.71      0.73       700\n",
      "       male       0.72      0.76      0.74       700\n",
      "\n",
      "avg / total       0.74      0.73      0.73      1400\n",
      "\n"
     ]
    }
   ],
   "source": [
    "from sklearn import metrics\n",
    "\n",
    "print(metrics.classification_report(test.sexo, predicted_gender))"
   ]
  },
  {
   "cell_type": "markdown",
   "metadata": {},
   "source": [
    "**6- VARIEDAD: clasificador, predicción y evaluación.**\n",
    "\n",
    "**Al igual que para el sexo, usamos un modelo basado en Random Forest con 500 árboles.**"
   ]
  },
  {
   "cell_type": "markdown",
   "metadata": {},
   "source": [
    "**Clasificador**"
   ]
  },
  {
   "cell_type": "code",
   "execution_count": 15,
   "metadata": {
    "collapsed": true
   },
   "outputs": [],
   "source": [
    "clf_variety = RandomForestClassifier(500).fit(x_train, train['variedad'])"
   ]
  },
  {
   "cell_type": "markdown",
   "metadata": {},
   "source": [
    "**Predicción**"
   ]
  },
  {
   "cell_type": "code",
   "execution_count": 16,
   "metadata": {
    "collapsed": true
   },
   "outputs": [],
   "source": [
    "predicted_variety = clf_variety.predict(x_test)"
   ]
  },
  {
   "cell_type": "markdown",
   "metadata": {},
   "source": [
    "Ejemplo de la predicción para los 200 últimos usuarios, que pertenecen a la variedad del español de Venezuela.\n",
    "\n",
    "Usamos para ello la función Counter de la librería collections."
   ]
  },
  {
   "cell_type": "code",
   "execution_count": 17,
   "metadata": {},
   "outputs": [
    {
     "data": {
      "text/plain": [
       "[('venezuela', 185),\n",
       " ('colombia', 5),\n",
       " ('spain', 4),\n",
       " ('argentina', 2),\n",
       " ('mexico', 2),\n",
       " ('peru', 1),\n",
       " ('chile', 1)]"
      ]
     },
     "execution_count": 17,
     "metadata": {},
     "output_type": "execute_result"
    }
   ],
   "source": [
    "from collections import Counter\n",
    "\n",
    "c = Counter(predicted_variety[1200:1400])\n",
    "c.most_common()"
   ]
  },
  {
   "cell_type": "markdown",
   "metadata": {},
   "source": [
    "**Evaluación**"
   ]
  },
  {
   "cell_type": "code",
   "execution_count": 19,
   "metadata": {},
   "outputs": [
    {
     "name": "stdout",
     "output_type": "stream",
     "text": [
      "             precision    recall  f1-score   support\n",
      "\n",
      "  argentina       0.93      0.96      0.94       200\n",
      "      chile       0.97      0.96      0.97       200\n",
      "   colombia       0.92      0.94      0.93       200\n",
      "     mexico       0.89      0.93      0.91       200\n",
      "       peru       0.98      0.88      0.93       200\n",
      "      spain       0.89      0.95      0.92       200\n",
      "  venezuela       0.97      0.93      0.95       200\n",
      "\n",
      "avg / total       0.94      0.94      0.94      1400\n",
      "\n"
     ]
    }
   ],
   "source": [
    "print(metrics.classification_report(test.variedad, predicted_variety))"
   ]
  }
 ],
 "metadata": {
  "kernelspec": {
   "display_name": "Python 3",
   "language": "python",
   "name": "python3"
  },
  "language_info": {
   "codemirror_mode": {
    "name": "ipython",
    "version": 3
   },
   "file_extension": ".py",
   "mimetype": "text/x-python",
   "name": "python",
   "nbconvert_exporter": "python",
   "pygments_lexer": "ipython3",
   "version": "3.6.1"
  }
 },
 "nbformat": 4,
 "nbformat_minor": 2
}
